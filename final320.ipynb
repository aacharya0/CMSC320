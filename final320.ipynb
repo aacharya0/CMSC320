{
  "nbformat": 4,
  "nbformat_minor": 0,
  "metadata": {
    "colab": {
      "name": "final320.ipynb",
      "version": "0.3.2",
      "views": {},
      "default_view": {},
      "provenance": [],
      "collapsed_sections": []
    }
  },
  "cells": [
    {
      "metadata": {
        "id": "gCYjZrhl8Ray",
        "colab_type": "text"
      },
      "source": [
        "**CMSC 320 Final Project: When should you buy a car?**\n",
        "\n",
        "---\n",
        "\n",
        "\n",
        "**By**: Ankita Acharya, Alex Chao, Jitesh Nadimpalli"
      ],
      "cell_type": "markdown"
    },
    {
      "metadata": {
        "id": "MlZ_kZyKdAb6",
        "colab_type": "text"
      },
      "source": [
        "# Introduction"
      ],
      "cell_type": "markdown"
    },
    {
      "metadata": {
        "id": "osABZYGalEQO",
        "colab_type": "text"
      },
      "source": [
        "## Backstory"
      ],
      "cell_type": "markdown"
    },
    {
      "metadata": {
        "id": "XTb6P7EudFgc",
        "colab_type": "text"
      },
      "source": [
        "We've all gone through, or will go through, the process of buying a car. We'll spend countless hours researching car prices, reading car reviews, and listening to experts lecture us on when we should go buy a car so that we get the best price. We hate it, but we still do it anyway because we're inspired to do so by our friends who told us about that the one time they walked in to a car dealership on midsummer night on a full moon after 5 o'clock and walked out with a new sedan for only $10,500. While much of car buying does rely on luck, it is still a negotiation and there are tactics we can use to get the negotiation to go in our favor. The best tactic to use when negotiating on the price is to buy a car when not many cars are being sold. When a dealership is not selling as many cars, they will be more likely to reduce the price of the car so that you will buy it. The following articles support this theory and dive deeper into how to get a good deal on a car:\n",
        "\n",
        "\n",
        "*   [Buying a Car - Auto Trader](https://www.autotrader.com/car-tips/buying-a-new-car-whens-the-best-time-211343)\n",
        "*   [Buying a Car - US News](https://cars.usnews.com/cars-trucks/how-to-negotiate-the-best-price-on-a-new-car)\n",
        "*   [Buying a Car - Review Journal](https://www.reviewjournal.com/business/20-secrets-to-getting-the-best-deal-on-a-new-car/)\n",
        "*   [Buying a Car - Consumer Reports](https://www.consumerreports.org/car-pricing-negotiation/how-to-negotiate-a-new-car-price-effectively/)"
      ],
      "cell_type": "markdown"
    },
    {
      "metadata": {
        "id": "k-roqTqLC3i3",
        "colab_type": "text"
      },
      "source": [
        "Based on the articles we can conclude that the right or best time to buy a car will be when the least amount of cars are sold"
      ],
      "cell_type": "markdown"
    },
    {
      "metadata": {
        "id": "LsKqiVTalKrN",
        "colab_type": "text"
      },
      "source": [
        "## Our Project"
      ],
      "cell_type": "markdown"
    },
    {
      "metadata": {
        "id": "r2FaGtl3lR9r",
        "colab_type": "text"
      },
      "source": [
        "Now that we have established why we should care about when to buy a car, let's figure when is the right time, specifically when are the least amount of cars sold. We realize that asking \"When are the least amount of cars sold?\" is a very general question because \"when\" could refer to a day, an hour, a time of the week, a month, or a season. For the purposes of this tutorial, we will only be focusing on which month the least amount of cars sold. We chose to only focus on month because:\n",
        "\n",
        "\n",
        "\n",
        "1.   We could not find data showing the days of the week or hour of the day that a car was bought\n",
        "2.   Car dealerships tend to have car sales on a monthly basis, like in the case of having holiday sales during the entire month of December or having back to school Sales during the entire month of August, so it was best to measure on that basis as well\n"
      ],
      "cell_type": "markdown"
    },
    {
      "metadata": {
        "id": "imVjEPh11Jm6",
        "colab_type": "text"
      },
      "source": [
        "This tutorial will show you how to collect car sales data from previous years, modify and format that data, graph it, analyze it, and come to a conclusion on when the least amount of cars are sold. We will be creating python scripts to scape the data from a website, rearrange that data into readable dataframes, plot those dataframes, and run linear regression analysis."
      ],
      "cell_type": "markdown"
    },
    {
      "metadata": {
        "id": "eZyiB9O-nOGO",
        "colab_type": "text"
      },
      "source": [
        "## Required Tools"
      ],
      "cell_type": "markdown"
    },
    {
      "metadata": {
        "id": "QRTj1aPsnS6I",
        "colab_type": "text"
      },
      "source": [
        "This project will use the following python libraries:\n",
        "\n",
        "\n",
        "*   [Requests](http://docs.python-requests.org/en/master/)\n",
        "*   [Numpy](http://www.numpy.org/)\n",
        "*   [Pandas](https://pandas.pydata.org/)\n",
        "*   [BeautifulSoup](https://www.crummy.com/software/BeautifulSoup/)\n",
        "*   [MatPlotLib](https://matplotlib.org/)\n",
        "*   [Math](https://docs.python.org/2/library/math.html)\n",
        "*   [Seaborn](https://seaborn.pydata.org/)\n",
        "*   [Sklearn](http://scikit-learn.org/stable/)\n",
        "\n",
        "We do recommend that you refer to these libraries if there is any code that confuses you.\n"
      ],
      "cell_type": "markdown"
    },
    {
      "metadata": {
        "id": "1Phnjld7f3jo",
        "colab_type": "text"
      },
      "source": [
        "# Data Collection"
      ],
      "cell_type": "markdown"
    },
    {
      "metadata": {
        "id": "yLR8Qa1Xo9Sb",
        "colab_type": "text"
      },
      "source": [
        "The first step is to collect car sales data from GoodCarBadCar. "
      ],
      "cell_type": "markdown"
    },
    {
      "metadata": {
        "id": "NZVuDEy71Bgj",
        "colab_type": "text"
      },
      "source": [
        "SIDE NOTE: For this project we have chosen to obtain car sales data from [GoodCarBadCar.com](http://www.goodcarbadcar.net/about-gcbc/) because they do provide information on monthly car sales and are trusted by mainly reputable news sources like New York Times, Bloomberg, Forbes, Fox News, etc. "
      ],
      "cell_type": "markdown"
    },
    {
      "metadata": {
        "id": "szUUSLK31Dte",
        "colab_type": "text"
      },
      "source": [
        "The code below retrieves the tables displayed [here](http://www.goodcarbadcar.net/2012/10/usa-auto-industry-total-sales-figures/) on GoodCarBadCar. These tables contain information on how many cars were sold each month from 2010 to 2017 as well as the total number of cars sold each year from 1999 to 2017. "
      ],
      "cell_type": "markdown"
    },
    {
      "metadata": {
        "id": "cBs31Ml51GEK",
        "colab_type": "text"
      },
      "source": [
        "We use the requests library to retrieve the html from the page. Then we use BeautifulSoup to parse the html for the tables. Once we have obtained the tables from the html, we convert those tables into a dataframe using the Pandas library. You will notice that the table showing the individual monthly sales is split up into two separate tables (one for 2010 to 2014 and one for 2015 to 2017). The last step will be to merge those two tables (using the pandas merge function) into a single table containing all monthly sales data for every year this decade."
      ],
      "cell_type": "markdown"
    },
    {
      "metadata": {
        "id": "45dl3O8K6DhV",
        "colab_type": "code",
        "colab": {
          "autoexec": {
            "startup": false,
            "wait_interval": 0
          },
          "output_extras": [
            {
              "item_id": 1
            }
          ],
          "base_uri": "https://localhost:8080/",
          "height": 455
        },
        "outputId": "efa29df9-fb84-42f7-996f-6d011e729f06",
        "executionInfo": {
          "status": "ok",
          "timestamp": 1513386099822,
          "user_tz": 300,
          "elapsed": 3543,
          "user": {
            "displayName": "Ankita Acharya",
            "photoUrl": "//lh4.googleusercontent.com/-cBDEEVYvDo4/AAAAAAAAAAI/AAAAAAAAABA/FDzN0-aaNl0/s50-c-k-no/photo.jpg",
            "userId": "107909824720407912366"
          }
        }
      },
      "source": [
        "import requests\n",
        "import numpy as np\n",
        "import pandas as pd\n",
        "from bs4 import BeautifulSoup\n",
        "import matplotlib.pyplot as plt\n",
        "import math\n",
        "import seaborn as sns\n",
        "\n",
        "def getTables(url):\n",
        "  r = requests.get(url)\n",
        "  sales_figs = r.content\n",
        "  bsify_sales_figs = BeautifulSoup(sales_figs, 'html.parser')\n",
        "  tables = bsify_sales_figs.findAll(\"table\")\n",
        "  return tables\n",
        "\n",
        "#Get total sales in the US Market by year and month from this url.\n",
        "tables = getTables('http://www.goodcarbadcar.net/2012/10/usa-auto-industry-total-sales-figures/')\n",
        "\n",
        "table_one = tables[0]\n",
        "table_two = tables[1]\n",
        "table_three = tables[2]\n",
        "\n",
        "#This dataframe is for total sales of cars in US by year, no breakdown by month.\n",
        "totals_df = pd.read_html(str(table_three), flavor='bs4')[0]\n",
        "\n",
        "#These two tables contain info about car sales by month and year.\n",
        "df_one = pd.read_html(str(table_one), flavor='bs4')[0]\n",
        "df_two = pd.read_html(str(table_two), flavor='bs4')[0]\n",
        "\n",
        "\n",
        "df_one.columns = df_one.iloc[0]\n",
        "df_two.columns = df_two.iloc[0]\n",
        "\n",
        "df_one = df_one.drop(df_one.index[0])\n",
        "df_two = df_two.drop(df_two.index[0])\n",
        "\n",
        "#Combine them into one table\n",
        "months_df = pd.merge(df_one, df_two, how='outer', on='Month')\n",
        "months_df.drop(months_df.columns[[9, 10]], axis=1, inplace=True)\n",
        "\n",
        "months_df"
      ],
      "cell_type": "code",
      "execution_count": 3,
      "outputs": [
        {
          "output_type": "execute_result",
          "data": {
            "text/html": [
              "<div>\n",
              "<style>\n",
              "    .dataframe thead tr:only-child th {\n",
              "        text-align: right;\n",
              "    }\n",
              "\n",
              "    .dataframe thead th {\n",
              "        text-align: left;\n",
              "    }\n",
              "\n",
              "    .dataframe tbody tr th {\n",
              "        vertical-align: top;\n",
              "    }\n",
              "</style>\n",
              "<table border=\"1\" class=\"dataframe\">\n",
              "  <thead>\n",
              "    <tr style=\"text-align: right;\">\n",
              "      <th></th>\n",
              "      <th>Month</th>\n",
              "      <th>U.S. Total Market Sales 2010</th>\n",
              "      <th>U.S. Total Market Sales 2011</th>\n",
              "      <th>U.S. Total Market Sales 2012</th>\n",
              "      <th>U.S. Total Market Sales 2013</th>\n",
              "      <th>U.S. Total Market Sales 2014</th>\n",
              "      <th>U.S. Total Market Sales 2015</th>\n",
              "      <th>U.S. Total Market Sales 2016</th>\n",
              "      <th>U.S. Total Market Sales 2017</th>\n",
              "    </tr>\n",
              "  </thead>\n",
              "  <tbody>\n",
              "    <tr>\n",
              "      <th>0</th>\n",
              "      <td>January</td>\n",
              "      <td>698986</td>\n",
              "      <td>819886</td>\n",
              "      <td>913317</td>\n",
              "      <td>1043192</td>\n",
              "      <td>1011187</td>\n",
              "      <td>1152480</td>\n",
              "      <td>1148087</td>\n",
              "      <td>1142181</td>\n",
              "    </tr>\n",
              "    <tr>\n",
              "      <th>1</th>\n",
              "      <td>February</td>\n",
              "      <td>780422</td>\n",
              "      <td>993566</td>\n",
              "      <td>1149547</td>\n",
              "      <td>1192299</td>\n",
              "      <td>1192467</td>\n",
              "      <td>1258570</td>\n",
              "      <td>1343922</td>\n",
              "      <td>1333128</td>\n",
              "    </tr>\n",
              "    <tr>\n",
              "      <th>2</th>\n",
              "      <td>March</td>\n",
              "      <td>1066298</td>\n",
              "      <td>1246662</td>\n",
              "      <td>1404699</td>\n",
              "      <td>1453038</td>\n",
              "      <td>1537270</td>\n",
              "      <td>1545710</td>\n",
              "      <td>1595065</td>\n",
              "      <td>1554998</td>\n",
              "    </tr>\n",
              "    <tr>\n",
              "      <th>3</th>\n",
              "      <td>April</td>\n",
              "      <td>982263</td>\n",
              "      <td>1157923</td>\n",
              "      <td>1184567</td>\n",
              "      <td>1285446</td>\n",
              "      <td>1391303</td>\n",
              "      <td>1455242</td>\n",
              "      <td>1506431</td>\n",
              "      <td>1426883</td>\n",
              "    </tr>\n",
              "    <tr>\n",
              "      <th>4</th>\n",
              "      <td>May</td>\n",
              "      <td>1103043</td>\n",
              "      <td>1061835</td>\n",
              "      <td>1334642</td>\n",
              "      <td>1443311</td>\n",
              "      <td>1609678</td>\n",
              "      <td>1634952</td>\n",
              "      <td>1535670</td>\n",
              "      <td>1527052</td>\n",
              "    </tr>\n",
              "    <tr>\n",
              "      <th>5</th>\n",
              "      <td>June</td>\n",
              "      <td>983781</td>\n",
              "      <td>1053263</td>\n",
              "      <td>1285499</td>\n",
              "      <td>1403121</td>\n",
              "      <td>1421963</td>\n",
              "      <td>1476472</td>\n",
              "      <td>1512996</td>\n",
              "      <td>1470311</td>\n",
              "    </tr>\n",
              "    <tr>\n",
              "      <th>6</th>\n",
              "      <td>July</td>\n",
              "      <td>1050140</td>\n",
              "      <td>1059726</td>\n",
              "      <td>1153759</td>\n",
              "      <td>1313844</td>\n",
              "      <td>1435543</td>\n",
              "      <td>1510941</td>\n",
              "      <td>1521871</td>\n",
              "      <td>1411181</td>\n",
              "    </tr>\n",
              "    <tr>\n",
              "      <th>7</th>\n",
              "      <td>August</td>\n",
              "      <td>997522</td>\n",
              "      <td>1072387</td>\n",
              "      <td>1285292</td>\n",
              "      <td>1501294</td>\n",
              "      <td>1586374</td>\n",
              "      <td>1577971</td>\n",
              "      <td>1511405</td>\n",
              "      <td>1476307</td>\n",
              "    </tr>\n",
              "    <tr>\n",
              "      <th>8</th>\n",
              "      <td>September</td>\n",
              "      <td>959008</td>\n",
              "      <td>1053770</td>\n",
              "      <td>1188899</td>\n",
              "      <td>1137206</td>\n",
              "      <td>1245786</td>\n",
              "      <td>1442112</td>\n",
              "      <td>1434483</td>\n",
              "      <td>1519325</td>\n",
              "    </tr>\n",
              "    <tr>\n",
              "      <th>9</th>\n",
              "      <td>October</td>\n",
              "      <td>950250</td>\n",
              "      <td>1021185</td>\n",
              "      <td>1092294</td>\n",
              "      <td>1206182</td>\n",
              "      <td>1281132</td>\n",
              "      <td>1455153</td>\n",
              "      <td>1370721</td>\n",
              "      <td>1353424</td>\n",
              "    </tr>\n",
              "    <tr>\n",
              "      <th>10</th>\n",
              "      <td>November</td>\n",
              "      <td>873367</td>\n",
              "      <td>994786</td>\n",
              "      <td>1143916</td>\n",
              "      <td>1243852</td>\n",
              "      <td>1302685</td>\n",
              "      <td>1318210</td>\n",
              "      <td>1378635</td>\n",
              "      <td>1366071</td>\n",
              "    </tr>\n",
              "    <tr>\n",
              "      <th>11</th>\n",
              "      <td>December</td>\n",
              "      <td>1144806</td>\n",
              "      <td>1243784</td>\n",
              "      <td>1356070</td>\n",
              "      <td>1358734</td>\n",
              "      <td>1507928</td>\n",
              "      <td>1641913</td>\n",
              "      <td>1688368</td>\n",
              "      <td>NaN</td>\n",
              "    </tr>\n",
              "  </tbody>\n",
              "</table>\n",
              "</div>"
            ],
            "text/plain": [
              "0       Month U.S. Total Market Sales 2010 U.S. Total Market Sales 2011  \\\n",
              "0     January                       698986                       819886   \n",
              "1    February                       780422                       993566   \n",
              "2       March                      1066298                      1246662   \n",
              "3       April                       982263                      1157923   \n",
              "4         May                      1103043                      1061835   \n",
              "5        June                       983781                      1053263   \n",
              "6        July                      1050140                      1059726   \n",
              "7      August                       997522                      1072387   \n",
              "8   September                       959008                      1053770   \n",
              "9     October                       950250                      1021185   \n",
              "10   November                       873367                       994786   \n",
              "11   December                      1144806                      1243784   \n",
              "\n",
              "0  U.S. Total Market Sales 2012 U.S. Total Market Sales 2013  \\\n",
              "0                        913317                      1043192   \n",
              "1                       1149547                      1192299   \n",
              "2                       1404699                      1453038   \n",
              "3                       1184567                      1285446   \n",
              "4                       1334642                      1443311   \n",
              "5                       1285499                      1403121   \n",
              "6                       1153759                      1313844   \n",
              "7                       1285292                      1501294   \n",
              "8                       1188899                      1137206   \n",
              "9                       1092294                      1206182   \n",
              "10                      1143916                      1243852   \n",
              "11                      1356070                      1358734   \n",
              "\n",
              "0  U.S. Total Market Sales 2014 U.S. Total Market Sales 2015  \\\n",
              "0                       1011187                      1152480   \n",
              "1                       1192467                      1258570   \n",
              "2                       1537270                      1545710   \n",
              "3                       1391303                      1455242   \n",
              "4                       1609678                      1634952   \n",
              "5                       1421963                      1476472   \n",
              "6                       1435543                      1510941   \n",
              "7                       1586374                      1577971   \n",
              "8                       1245786                      1442112   \n",
              "9                       1281132                      1455153   \n",
              "10                      1302685                      1318210   \n",
              "11                      1507928                      1641913   \n",
              "\n",
              "0  U.S. Total Market Sales 2016 U.S. Total Market Sales 2017  \n",
              "0                       1148087                      1142181  \n",
              "1                       1343922                      1333128  \n",
              "2                       1595065                      1554998  \n",
              "3                       1506431                      1426883  \n",
              "4                       1535670                      1527052  \n",
              "5                       1512996                      1470311  \n",
              "6                       1521871                      1411181  \n",
              "7                       1511405                      1476307  \n",
              "8                       1434483                      1519325  \n",
              "9                       1370721                      1353424  \n",
              "10                      1378635                      1366071  \n",
              "11                      1688368                          NaN  "
            ]
          },
          "metadata": {
            "tags": []
          },
          "execution_count": 3
        }
      ]
    },
    {
      "metadata": {
        "id": "sabncvoAu3h9",
        "colab_type": "text"
      },
      "source": [
        "# Data Formatting"
      ],
      "cell_type": "markdown"
    },
    {
      "metadata": {
        "id": "IR8gHId3wDeX",
        "colab_type": "text"
      },
      "source": [
        "We've successfully scrapped and collected the data but it is still not in a format that we can use for further analysis. A few problems become apparent as we take a close look at the data, specifically these problems:\n",
        "\n",
        "\n",
        "*   The monthly sales data for each year only contains data for each year while the annual sales data contains data for every year from 1999 to 2017 (inclusive). These two tables should show the same time period so that we can streamline the data and remove unnecessary cluster. To do so we must remove the extraneous years (1999 to 2009) from the annual sales table. We will also remove the sales data for 2017 because as of the time of this tutorial, the 2017 year has not concluded yet.\n",
        "*   If you look closely, you will notice that the columns for the annual sales table does not contain column names, they are just delegated as being column 0 and column 1. Instead the column headers are stored as the first row of the table. We need to delete that row and rename those columns to have appropriate names.\n",
        "*   The monthly sales table does not follow the correct format for displaying each row and column. Each column should be a variable that you are testing for in the experiment and each row should be trial/run of the experiment. Each cell should contain the results of the trial for that given variable. In our scenario we observing the resulting sales for each during a year, so our table should display each month as a column and each row as a year. We will need to flip the rows and columns on our table.\n",
        "*   We are also missing total sales during a month for the years 2010 to 2016. Since this data is not automatically available through GoodCarBadCar we will need to gather this data on our own. We will use the monthly sales table to total all the sales in each column (which will represent a month after we finish changing it as previously stated). We will then store each of the totals in their own table.\n",
        "\n"
      ],
      "cell_type": "markdown"
    },
    {
      "metadata": {
        "id": "l54xISI-00bj",
        "colab_type": "text"
      },
      "source": [
        "The first thing we shall do is remove the extraneous years from the annual sales table and rename column headers. The following code below does exactly that."
      ],
      "cell_type": "markdown"
    },
    {
      "metadata": {
        "id": "DMIheEFfQbOz",
        "colab_type": "code",
        "colab": {
          "autoexec": {
            "startup": false,
            "wait_interval": 0
          },
          "output_extras": [
            {
              "item_id": 1
            }
          ],
          "base_uri": "https://localhost:8080/",
          "height": 266
        },
        "outputId": "6f885099-535f-4c40-d9d6-fc0b0204e2fe",
        "executionInfo": {
          "status": "ok",
          "timestamp": 1513386102822,
          "user_tz": 300,
          "elapsed": 249,
          "user": {
            "displayName": "Ankita Acharya",
            "photoUrl": "//lh4.googleusercontent.com/-cBDEEVYvDo4/AAAAAAAAAAI/AAAAAAAAABA/FDzN0-aaNl0/s50-c-k-no/photo.jpg",
            "userId": "107909824720407912366"
          }
        }
      },
      "source": [
        "# create new dataframe to store only car sales for this decade (minus 2017 since it has not concluded)\n",
        "totals_df_2010_2016 = pd.DataFrame(np.random.randint(low=0, high=10, size=(7, 2)), columns=['Year', 'Cars Sold'])\n",
        "\n",
        "# create new lists to store values for this decade\n",
        "years = []\n",
        "sales = []\n",
        "\n",
        "# populate lists using values from totals dataframe\n",
        "for index, row in totals_df.iterrows():\n",
        "  str_1 = filter(lambda x: x.isdigit(), row[0])\n",
        "  \n",
        "  if(str_1 != '' and int(str_1) > 2009 and int(str_1) < 2017):\n",
        "    year = int(str_1)\n",
        "    sale = row[1]\n",
        "    \n",
        "    years.append(year)\n",
        "    sales.append(sale)\n",
        "\n",
        "# populate dataframe created above with values from list\n",
        "for index, row in totals_df_2010_2016.iterrows():\n",
        "  if(row['Year'] != '2017'):\n",
        "    row['Year'] = years[index]\n",
        "    row['Cars Sold'] = sales[index]\n",
        "  \n",
        "totals_df_2010_2016"
      ],
      "cell_type": "code",
      "execution_count": 4,
      "outputs": [
        {
          "output_type": "execute_result",
          "data": {
            "text/html": [
              "<div>\n",
              "<style>\n",
              "    .dataframe thead tr:only-child th {\n",
              "        text-align: right;\n",
              "    }\n",
              "\n",
              "    .dataframe thead th {\n",
              "        text-align: left;\n",
              "    }\n",
              "\n",
              "    .dataframe tbody tr th {\n",
              "        vertical-align: top;\n",
              "    }\n",
              "</style>\n",
              "<table border=\"1\" class=\"dataframe\">\n",
              "  <thead>\n",
              "    <tr style=\"text-align: right;\">\n",
              "      <th></th>\n",
              "      <th>Year</th>\n",
              "      <th>Cars Sold</th>\n",
              "    </tr>\n",
              "  </thead>\n",
              "  <tbody>\n",
              "    <tr>\n",
              "      <th>0</th>\n",
              "      <td>2010</td>\n",
              "      <td>11589844</td>\n",
              "    </tr>\n",
              "    <tr>\n",
              "      <th>1</th>\n",
              "      <td>2011</td>\n",
              "      <td>12778885</td>\n",
              "    </tr>\n",
              "    <tr>\n",
              "      <th>2</th>\n",
              "      <td>2012</td>\n",
              "      <td>14492398</td>\n",
              "    </tr>\n",
              "    <tr>\n",
              "      <th>3</th>\n",
              "      <td>2013</td>\n",
              "      <td>15582136</td>\n",
              "    </tr>\n",
              "    <tr>\n",
              "      <th>4</th>\n",
              "      <td>2014</td>\n",
              "      <td>16531070</td>\n",
              "    </tr>\n",
              "    <tr>\n",
              "      <th>5</th>\n",
              "      <td>2015</td>\n",
              "      <td>17470659</td>\n",
              "    </tr>\n",
              "    <tr>\n",
              "      <th>6</th>\n",
              "      <td>2016</td>\n",
              "      <td>17539052</td>\n",
              "    </tr>\n",
              "  </tbody>\n",
              "</table>\n",
              "</div>"
            ],
            "text/plain": [
              "   Year  Cars Sold\n",
              "0  2010   11589844\n",
              "1  2011   12778885\n",
              "2  2012   14492398\n",
              "3  2013   15582136\n",
              "4  2014   16531070\n",
              "5  2015   17470659\n",
              "6  2016   17539052"
            ]
          },
          "metadata": {
            "tags": []
          },
          "execution_count": 4
        }
      ]
    },
    {
      "metadata": {
        "id": "oy_RKd741g5-",
        "colab_type": "text"
      },
      "source": [
        "The next issue we will tackle is changing the monthly sales table to display each year as a row, each month as a column, and each cell as a sale made in that month for that year."
      ],
      "cell_type": "markdown"
    },
    {
      "metadata": {
        "id": "gwJR8Yr5is3H",
        "colab_type": "code",
        "colab": {
          "autoexec": {
            "startup": false,
            "wait_interval": 0
          },
          "output_extras": [
            {
              "item_id": 1
            }
          ],
          "base_uri": "https://localhost:8080/",
          "height": 297
        },
        "outputId": "907ee787-fd90-4dcd-d753-5a8c048fdff3",
        "executionInfo": {
          "status": "ok",
          "timestamp": 1513386105780,
          "user_tz": 300,
          "elapsed": 282,
          "user": {
            "displayName": "Ankita Acharya",
            "photoUrl": "//lh4.googleusercontent.com/-cBDEEVYvDo4/AAAAAAAAAAI/AAAAAAAAABA/FDzN0-aaNl0/s50-c-k-no/photo.jpg",
            "userId": "107909824720407912366"
          }
        }
      },
      "source": [
        "# flip the dataframe to show increase or decrease in car sales each month by year\n",
        "# Change Months column to year\n",
        "months_df_copy = months_df.copy(deep=True)\n",
        "months_df_copy.rename(columns={'Month':'Year'}, inplace=True)\n",
        "\n",
        "# Get list of months\n",
        "months_columns = months_df_copy['Year']\n",
        "\n",
        "# Get list of years\n",
        "years_columns = months_df.columns.values.tolist()\n",
        "years_columns.pop(0)\n",
        "\n",
        "# Create empty dataframe to store values\n",
        "temp_df = pd.DataFrame(np.random.randint(low=0, high=10, size=(8, 12)), columns=months_columns)\n",
        "\n",
        "# store each year's values as a row\n",
        "df_row = []\n",
        "\n",
        "for year in years_columns:\n",
        "  # store each month's value as a entry in the row of years\n",
        "  df_year = []\n",
        "  \n",
        "  for index,row in months_df.iterrows():\n",
        "    df_year.append(row[year])\n",
        "    \n",
        "  df_row.append(df_year)\n",
        "  \n",
        "# populate dataframe with 2d array that was created\n",
        "months_df_flipped = pd.DataFrame(data=df_row, index=temp_df.index, columns=temp_df.columns)\n",
        "\n",
        "# add column to denote year\n",
        "year_column = [2010, 2011, 2012, 2013, 2014, 2015, 2016, 2017]\n",
        "months_df_flipped['Year'] = year_column\n",
        "\n",
        "# Change values to numeric values\n",
        "for month in months_columns:\n",
        "  months_df_flipped[month] = pd.to_numeric(months_df_flipped[month], errors='ignore')\n",
        "\n",
        "# rearrange columns and bring year column to front\n",
        "cols = months_df_flipped.columns.tolist()\n",
        "cols = cols[-1:] + cols[:-1]\n",
        "months_df_flipped = months_df_flipped[cols] \n",
        "\n",
        "months_df_flipped"
      ],
      "cell_type": "code",
      "execution_count": 5,
      "outputs": [
        {
          "output_type": "execute_result",
          "data": {
            "text/html": [
              "<div>\n",
              "<style>\n",
              "    .dataframe thead tr:only-child th {\n",
              "        text-align: right;\n",
              "    }\n",
              "\n",
              "    .dataframe thead th {\n",
              "        text-align: left;\n",
              "    }\n",
              "\n",
              "    .dataframe tbody tr th {\n",
              "        vertical-align: top;\n",
              "    }\n",
              "</style>\n",
              "<table border=\"1\" class=\"dataframe\">\n",
              "  <thead>\n",
              "    <tr style=\"text-align: right;\">\n",
              "      <th>Year</th>\n",
              "      <th>Year</th>\n",
              "      <th>January</th>\n",
              "      <th>February</th>\n",
              "      <th>March</th>\n",
              "      <th>April</th>\n",
              "      <th>May</th>\n",
              "      <th>June</th>\n",
              "      <th>July</th>\n",
              "      <th>August</th>\n",
              "      <th>September</th>\n",
              "      <th>October</th>\n",
              "      <th>November</th>\n",
              "      <th>December</th>\n",
              "    </tr>\n",
              "  </thead>\n",
              "  <tbody>\n",
              "    <tr>\n",
              "      <th>0</th>\n",
              "      <td>2010</td>\n",
              "      <td>698986</td>\n",
              "      <td>780422</td>\n",
              "      <td>1066298</td>\n",
              "      <td>982263</td>\n",
              "      <td>1103043</td>\n",
              "      <td>983781</td>\n",
              "      <td>1050140</td>\n",
              "      <td>997522</td>\n",
              "      <td>959008</td>\n",
              "      <td>950250</td>\n",
              "      <td>873367</td>\n",
              "      <td>1144806.0</td>\n",
              "    </tr>\n",
              "    <tr>\n",
              "      <th>1</th>\n",
              "      <td>2011</td>\n",
              "      <td>819886</td>\n",
              "      <td>993566</td>\n",
              "      <td>1246662</td>\n",
              "      <td>1157923</td>\n",
              "      <td>1061835</td>\n",
              "      <td>1053263</td>\n",
              "      <td>1059726</td>\n",
              "      <td>1072387</td>\n",
              "      <td>1053770</td>\n",
              "      <td>1021185</td>\n",
              "      <td>994786</td>\n",
              "      <td>1243784.0</td>\n",
              "    </tr>\n",
              "    <tr>\n",
              "      <th>2</th>\n",
              "      <td>2012</td>\n",
              "      <td>913317</td>\n",
              "      <td>1149547</td>\n",
              "      <td>1404699</td>\n",
              "      <td>1184567</td>\n",
              "      <td>1334642</td>\n",
              "      <td>1285499</td>\n",
              "      <td>1153759</td>\n",
              "      <td>1285292</td>\n",
              "      <td>1188899</td>\n",
              "      <td>1092294</td>\n",
              "      <td>1143916</td>\n",
              "      <td>1356070.0</td>\n",
              "    </tr>\n",
              "    <tr>\n",
              "      <th>3</th>\n",
              "      <td>2013</td>\n",
              "      <td>1043192</td>\n",
              "      <td>1192299</td>\n",
              "      <td>1453038</td>\n",
              "      <td>1285446</td>\n",
              "      <td>1443311</td>\n",
              "      <td>1403121</td>\n",
              "      <td>1313844</td>\n",
              "      <td>1501294</td>\n",
              "      <td>1137206</td>\n",
              "      <td>1206182</td>\n",
              "      <td>1243852</td>\n",
              "      <td>1358734.0</td>\n",
              "    </tr>\n",
              "    <tr>\n",
              "      <th>4</th>\n",
              "      <td>2014</td>\n",
              "      <td>1011187</td>\n",
              "      <td>1192467</td>\n",
              "      <td>1537270</td>\n",
              "      <td>1391303</td>\n",
              "      <td>1609678</td>\n",
              "      <td>1421963</td>\n",
              "      <td>1435543</td>\n",
              "      <td>1586374</td>\n",
              "      <td>1245786</td>\n",
              "      <td>1281132</td>\n",
              "      <td>1302685</td>\n",
              "      <td>1507928.0</td>\n",
              "    </tr>\n",
              "    <tr>\n",
              "      <th>5</th>\n",
              "      <td>2015</td>\n",
              "      <td>1152480</td>\n",
              "      <td>1258570</td>\n",
              "      <td>1545710</td>\n",
              "      <td>1455242</td>\n",
              "      <td>1634952</td>\n",
              "      <td>1476472</td>\n",
              "      <td>1510941</td>\n",
              "      <td>1577971</td>\n",
              "      <td>1442112</td>\n",
              "      <td>1455153</td>\n",
              "      <td>1318210</td>\n",
              "      <td>1641913.0</td>\n",
              "    </tr>\n",
              "    <tr>\n",
              "      <th>6</th>\n",
              "      <td>2016</td>\n",
              "      <td>1148087</td>\n",
              "      <td>1343922</td>\n",
              "      <td>1595065</td>\n",
              "      <td>1506431</td>\n",
              "      <td>1535670</td>\n",
              "      <td>1512996</td>\n",
              "      <td>1521871</td>\n",
              "      <td>1511405</td>\n",
              "      <td>1434483</td>\n",
              "      <td>1370721</td>\n",
              "      <td>1378635</td>\n",
              "      <td>1688368.0</td>\n",
              "    </tr>\n",
              "    <tr>\n",
              "      <th>7</th>\n",
              "      <td>2017</td>\n",
              "      <td>1142181</td>\n",
              "      <td>1333128</td>\n",
              "      <td>1554998</td>\n",
              "      <td>1426883</td>\n",
              "      <td>1527052</td>\n",
              "      <td>1470311</td>\n",
              "      <td>1411181</td>\n",
              "      <td>1476307</td>\n",
              "      <td>1519325</td>\n",
              "      <td>1353424</td>\n",
              "      <td>1366071</td>\n",
              "      <td>NaN</td>\n",
              "    </tr>\n",
              "  </tbody>\n",
              "</table>\n",
              "</div>"
            ],
            "text/plain": [
              "Year  Year  January  February    March    April      May     June     July  \\\n",
              "0     2010   698986    780422  1066298   982263  1103043   983781  1050140   \n",
              "1     2011   819886    993566  1246662  1157923  1061835  1053263  1059726   \n",
              "2     2012   913317   1149547  1404699  1184567  1334642  1285499  1153759   \n",
              "3     2013  1043192   1192299  1453038  1285446  1443311  1403121  1313844   \n",
              "4     2014  1011187   1192467  1537270  1391303  1609678  1421963  1435543   \n",
              "5     2015  1152480   1258570  1545710  1455242  1634952  1476472  1510941   \n",
              "6     2016  1148087   1343922  1595065  1506431  1535670  1512996  1521871   \n",
              "7     2017  1142181   1333128  1554998  1426883  1527052  1470311  1411181   \n",
              "\n",
              "Year   August  September  October  November   December  \n",
              "0      997522     959008   950250    873367  1144806.0  \n",
              "1     1072387    1053770  1021185    994786  1243784.0  \n",
              "2     1285292    1188899  1092294   1143916  1356070.0  \n",
              "3     1501294    1137206  1206182   1243852  1358734.0  \n",
              "4     1586374    1245786  1281132   1302685  1507928.0  \n",
              "5     1577971    1442112  1455153   1318210  1641913.0  \n",
              "6     1511405    1434483  1370721   1378635  1688368.0  \n",
              "7     1476307    1519325  1353424   1366071        NaN  "
            ]
          },
          "metadata": {
            "tags": []
          },
          "execution_count": 5
        }
      ]
    },
    {
      "metadata": {
        "id": "7O_5YYsH2drz",
        "colab_type": "text"
      },
      "source": [
        "Lastly, we need to create a table to contain the total cars sold from 2010 to 2016 during a specific month. To do that we will get the sums for each column in the monthly sales table and store those sums in their own table"
      ],
      "cell_type": "markdown"
    },
    {
      "metadata": {
        "id": "C7J_iLtGIbxS",
        "colab_type": "code",
        "colab": {
          "autoexec": {
            "startup": false,
            "wait_interval": 0
          },
          "output_extras": [
            {
              "item_id": 1
            }
          ],
          "base_uri": "https://localhost:8080/",
          "height": 421
        },
        "outputId": "8273a235-aacd-4dd6-9710-3cdc99454b97",
        "executionInfo": {
          "status": "ok",
          "timestamp": 1513389558207,
          "user_tz": 300,
          "elapsed": 315,
          "user": {
            "displayName": "Ankita Acharya",
            "photoUrl": "//lh4.googleusercontent.com/-cBDEEVYvDo4/AAAAAAAAAAI/AAAAAAAAABA/FDzN0-aaNl0/s50-c-k-no/photo.jpg",
            "userId": "107909824720407912366"
          }
        }
      },
      "source": [
        "# create dictionary containing total cars sold each month from 2010 to 2016\n",
        "totals_per_month = {}\n",
        "\n",
        "for month in months_columns:\n",
        "  total = 0\n",
        "  for index, row in months_df_flipped.iterrows():\n",
        "    if (row['Year'] < 2017):\n",
        "      total += row[month]\n",
        "  \n",
        "  totals_per_month[month] = total\n",
        "\n",
        "#convert dictionary into dataframe\n",
        "totals_months_df = pd.DataFrame(totals_per_month.items(), columns=['Month', 'Total_Cars_Sold'])\n",
        "\n",
        "totals_months_df"
      ],
      "cell_type": "code",
      "execution_count": 54,
      "outputs": [
        {
          "output_type": "execute_result",
          "data": {
            "text/html": [
              "<div>\n",
              "<style>\n",
              "    .dataframe thead tr:only-child th {\n",
              "        text-align: right;\n",
              "    }\n",
              "\n",
              "    .dataframe thead th {\n",
              "        text-align: left;\n",
              "    }\n",
              "\n",
              "    .dataframe tbody tr th {\n",
              "        vertical-align: top;\n",
              "    }\n",
              "</style>\n",
              "<table border=\"1\" class=\"dataframe\">\n",
              "  <thead>\n",
              "    <tr style=\"text-align: right;\">\n",
              "      <th></th>\n",
              "      <th>Month</th>\n",
              "      <th>Total_Cars_Sold</th>\n",
              "    </tr>\n",
              "  </thead>\n",
              "  <tbody>\n",
              "    <tr>\n",
              "      <th>0</th>\n",
              "      <td>February</td>\n",
              "      <td>7910793.0</td>\n",
              "    </tr>\n",
              "    <tr>\n",
              "      <th>1</th>\n",
              "      <td>October</td>\n",
              "      <td>8376917.0</td>\n",
              "    </tr>\n",
              "    <tr>\n",
              "      <th>2</th>\n",
              "      <td>March</td>\n",
              "      <td>9848742.0</td>\n",
              "    </tr>\n",
              "    <tr>\n",
              "      <th>3</th>\n",
              "      <td>August</td>\n",
              "      <td>9532245.0</td>\n",
              "    </tr>\n",
              "    <tr>\n",
              "      <th>4</th>\n",
              "      <td>May</td>\n",
              "      <td>9723131.0</td>\n",
              "    </tr>\n",
              "    <tr>\n",
              "      <th>5</th>\n",
              "      <td>January</td>\n",
              "      <td>6787135.0</td>\n",
              "    </tr>\n",
              "    <tr>\n",
              "      <th>6</th>\n",
              "      <td>June</td>\n",
              "      <td>9137095.0</td>\n",
              "    </tr>\n",
              "    <tr>\n",
              "      <th>7</th>\n",
              "      <td>September</td>\n",
              "      <td>8461264.0</td>\n",
              "    </tr>\n",
              "    <tr>\n",
              "      <th>8</th>\n",
              "      <td>April</td>\n",
              "      <td>8963175.0</td>\n",
              "    </tr>\n",
              "    <tr>\n",
              "      <th>9</th>\n",
              "      <td>December</td>\n",
              "      <td>9941603.0</td>\n",
              "    </tr>\n",
              "    <tr>\n",
              "      <th>10</th>\n",
              "      <td>July</td>\n",
              "      <td>9045824.0</td>\n",
              "    </tr>\n",
              "    <tr>\n",
              "      <th>11</th>\n",
              "      <td>November</td>\n",
              "      <td>8255451.0</td>\n",
              "    </tr>\n",
              "  </tbody>\n",
              "</table>\n",
              "</div>"
            ],
            "text/plain": [
              "        Month  Total_Cars_Sold\n",
              "0    February        7910793.0\n",
              "1     October        8376917.0\n",
              "2       March        9848742.0\n",
              "3      August        9532245.0\n",
              "4         May        9723131.0\n",
              "5     January        6787135.0\n",
              "6        June        9137095.0\n",
              "7   September        8461264.0\n",
              "8       April        8963175.0\n",
              "9    December        9941603.0\n",
              "10       July        9045824.0\n",
              "11   November        8255451.0"
            ]
          },
          "metadata": {
            "tags": []
          },
          "execution_count": 54
        }
      ]
    },
    {
      "metadata": {
        "id": "BhYNhBrEvvdS",
        "colab_type": "text"
      },
      "source": [
        "# Data Visualization and Observation"
      ],
      "cell_type": "markdown"
    },
    {
      "metadata": {
        "id": "B7XFE6Ex21PS",
        "colab_type": "text"
      },
      "source": [
        "Now that our data is correctly formatted we can plot our data to help reveal some trends about car sales in this decade"
      ],
      "cell_type": "markdown"
    },
    {
      "metadata": {
        "id": "fXOcB64v3HYV",
        "colab_type": "text"
      },
      "source": [
        "## Total Car Sales for each Year"
      ],
      "cell_type": "markdown"
    },
    {
      "metadata": {
        "id": "MUpO0CqpgAsY",
        "colab_type": "text"
      },
      "source": [
        "This graph is meant to give us insights into any yearly car sales trends for this decade that have become apparent"
      ],
      "cell_type": "markdown"
    },
    {
      "metadata": {
        "id": "s14Ky6kzVhY0",
        "colab_type": "code",
        "colab": {
          "autoexec": {
            "startup": false,
            "wait_interval": 0
          },
          "output_extras": [
            {
              "item_id": 1
            },
            {
              "item_id": 2
            }
          ],
          "base_uri": "https://localhost:8080/",
          "height": 529
        },
        "outputId": "36f99930-b465-4c08-ce76-f6d3c9203ddf",
        "executionInfo": {
          "status": "ok",
          "timestamp": 1513388350328,
          "user_tz": 300,
          "elapsed": 476,
          "user": {
            "displayName": "Ankita Acharya",
            "photoUrl": "//lh4.googleusercontent.com/-cBDEEVYvDo4/AAAAAAAAAAI/AAAAAAAAABA/FDzN0-aaNl0/s50-c-k-no/photo.jpg",
            "userId": "107909824720407912366"
          }
        }
      },
      "source": [
        "totals_df_2010_2016.plot(kind = 'line', x = 'Year', y = 'Cars Sold', title='Total Car Sales for each Year', figsize=(16,8))\n",
        "plt.ylabel('Number of Cars Sold (x10,000,000)')\n",
        "plt.show()\n",
        "\n",
        "print(\"NOTE: 2017 Data only includes cars sold in the past 11 months. December data not yet available so 2017 data is not graphed\")"
      ],
      "cell_type": "code",
      "execution_count": 26,
      "outputs": [
        {
          "output_type": "display_data",
          "data": {
            "image/png": "[encoded data removed]",
            "text/plain": [
              "<matplotlib.figure.Figure at 0x7f0c5dd7f7d0>"
            ]
          },
          "metadata": {
            "tags": []
          }
        },
        {
          "output_type": "stream",
          "text": [
            "NOTE: 2017 Data only includes cars sold in the past 11 months. December data not yet available so 2017 data is not graphed\n"
          ],
          "name": "stdout"
        }
      ]
    },
    {
      "metadata": {
        "id": "5ONvTKGE3Nj_",
        "colab_type": "text"
      },
      "source": [
        "## Observations"
      ],
      "cell_type": "markdown"
    },
    {
      "metadata": {
        "id": "XI-tzp_z3Qi1",
        "colab_type": "text"
      },
      "source": [
        "Based on the graph we can observe that:\n",
        "\n",
        "* Car sales have been increasing each year\n",
        "* Every year, except for 2016, there was an increase of around 1,000,000 cars. \n",
        "* 2016 is the only year this decade where the amount of cars sold stayed at around the same amount as the year before. There was still an increase as shown by the slight incline between 2015 and 2016, but nowhere near as much as the years before and definately not noticable at first glance. \n",
        "* 2012 seems to have been the best year for car sales as shown by the almost 2,000,000 increase (nearly double the increase of other years) from the previous year. "
      ],
      "cell_type": "markdown"
    },
    {
      "metadata": {
        "id": "5uKHBDLG3bF3",
        "colab_type": "text"
      },
      "source": [
        "## Total Cars Sold during each Month 2010-2016"
      ],
      "cell_type": "markdown"
    },
    {
      "metadata": {
        "id": "VI5SrHavgQiL",
        "colab_type": "text"
      },
      "source": [
        "This graph is meant to give us insights into how many cars were sold each month during the entire decade. This can help us determine which months were the best selling and worst selling months overall for this decade. "
      ],
      "cell_type": "markdown"
    },
    {
      "metadata": {
        "id": "4THXUo09LdOb",
        "colab_type": "code",
        "colab": {
          "autoexec": {
            "startup": false,
            "wait_interval": 0
          },
          "output_extras": [
            {
              "item_id": 1
            },
            {
              "item_id": 2
            }
          ],
          "base_uri": "https://localhost:8080/",
          "height": 568
        },
        "outputId": "4bf70c62-0b65-46ce-bde2-3fc7c95cca13",
        "executionInfo": {
          "status": "ok",
          "timestamp": 1513310070313,
          "user_tz": 300,
          "elapsed": 591,
          "user": {
            "displayName": "Jitesh Nadimpalli",
            "photoUrl": "//lh4.googleusercontent.com/-tUOPLuI1oNc/AAAAAAAAAAI/AAAAAAAAAMA/wdq4Vv44huQ/s50-c-k-no/photo.jpg",
            "userId": "113850985779065025232"
          }
        }
      },
      "source": [
        "totals_months_df.plot(kind = 'bar', x='Month', y='Total Cars Sold', figsize=(16,8))\n",
        "plt.title('Total Cars Sold each Month 2010-2016')\n",
        "plt.ylabel('Number of Cars Sold (x10,000,000)')\n",
        "plt.show()\n",
        "\n",
        "print(\"NOTE: 2017 Data only includes cars sold in the past 11 months. December data not yet available so 2017 data is not graphed\")"
      ],
      "cell_type": "code",
      "execution_count": 117,
      "outputs": [
        {
          "output_type": "display_data",
          "data": {
            "image/png": "[encoded data removed]",
            "text/plain": [
              "<matplotlib.figure.Figure at 0x7fbb397cb0d0>"
            ]
          },
          "metadata": {
            "tags": []
          }
        },
        {
          "output_type": "stream",
          "text": [
            "NOTE: 2017 Data only includes cars sold in the past 11 months. December data not yet available so 2017 data is not graphed\n"
          ],
          "name": "stdout"
        }
      ]
    },
    {
      "metadata": {
        "id": "qepZChlJ3wgw",
        "colab_type": "text"
      },
      "source": [
        "## Observations"
      ],
      "cell_type": "markdown"
    },
    {
      "metadata": {
        "id": "MifHWdGz3zmv",
        "colab_type": "text"
      },
      "source": [
        "Based on the graph above we can say that:\n",
        "\n",
        "*   the least amount of cars are sold during January\n",
        "*   the first two months of the year had the lowest total sales this decade\n",
        "*   the most amount of cars are sold this decade during December with a total of almost 10,000,000 over 7 years\n",
        "*   while the most cars are sold in December, almost as many cars are sold during the months of March, August, and May. They are all within 500,000 cars of December\n",
        "*   there is a noticable gap between the month with the second least amount of cars sold this decade (February) and the first (January). Around 1.5 million more cars were sold in total during February than January\n",
        "\n"
      ],
      "cell_type": "markdown"
    },
    {
      "metadata": {
        "id": "oFlX571R380R",
        "colab_type": "text"
      },
      "source": [
        "For the following graph, there will be 12 lines, so to make sure that each line has a unique color, we created an array of colors to cycle through for plotting"
      ],
      "cell_type": "markdown"
    },
    {
      "metadata": {
        "id": "SfBDzkpgJuPa",
        "colab_type": "code",
        "colab": {
          "autoexec": {
            "startup": false,
            "wait_interval": 0
          }
        }
      },
      "source": [
        "# create a list of 12 unique colors to represent each month of the year\n",
        "colors = ['red', 'blue', 'green', 'yellow', 'purple', 'orange', 'pink', 'indigo', 'black', 'cyan', 'limegreen', 'gray']"
      ],
      "cell_type": "code",
      "execution_count": 0,
      "outputs": []
    },
    {
      "metadata": {
        "id": "6-uRns6W4MUC",
        "colab_type": "text"
      },
      "source": [
        "## Cars Sold Each Month From 2010 to 2017 "
      ],
      "cell_type": "markdown"
    },
    {
      "metadata": {
        "id": "E8tvhW6zhrhV",
        "colab_type": "text"
      },
      "source": [
        "This graph shows us the yearly trends for each month during this decade. It can give us insights into which months were the best selling and worst selling months each year (not just in total like the previous graph) for this decade."
      ],
      "cell_type": "markdown"
    },
    {
      "metadata": {
        "id": "TPmMEAR_ETc0",
        "colab_type": "code",
        "colab": {
          "autoexec": {
            "startup": false,
            "wait_interval": 0
          },
          "output_extras": [
            {
              "item_id": 1
            },
            {
              "item_id": 2
            }
          ],
          "base_uri": "https://localhost:8080/",
          "height": 529
        },
        "outputId": "4bc41839-32ce-47b7-ff1c-77e532e0550e",
        "executionInfo": {
          "status": "ok",
          "timestamp": 1513310073365,
          "user_tz": 300,
          "elapsed": 1099,
          "user": {
            "displayName": "Jitesh Nadimpalli",
            "photoUrl": "//lh4.googleusercontent.com/-tUOPLuI1oNc/AAAAAAAAAAI/AAAAAAAAAMA/wdq4Vv44huQ/s50-c-k-no/photo.jpg",
            "userId": "113850985779065025232"
          }
        }
      },
      "source": [
        "fig, ax = plt.subplots(1, 1)\n",
        "ax.set_ylabel(\"Number of Cars Sold\")\n",
        "plt.title(\"Cars Sold Each Month From 2010 to 2017\")\n",
        "\n",
        "count = 0\n",
        "\n",
        "# for each month in the year plot a line to show sales for that line. For the colors\n",
        "# cycle through the list of colors created earlier\n",
        "for month in months_columns:\n",
        "  months_df_flipped.plot(kind = 'line', x='Year', y=month, ax = ax, color = colors[count], figsize=(16,8), marker='o')\n",
        "  count += 1\n",
        "  \n",
        "plt.show()\n",
        "\n",
        "print(\"NOTE: 2017 Data only includes cars sold in the past 11 months. December data not yet available. 2017 data is still graphed because December 2017 will not directly affect the trends for other months\")"
      ],
      "cell_type": "code",
      "execution_count": 118,
      "outputs": [
        {
          "output_type": "display_data",
          "data": {
            "image/png": "[encoded data removed]",
            "text/plain": [
              "<matplotlib.figure.Figure at 0x7fbb35ccb6d0>"
            ]
          },
          "metadata": {
            "tags": []
          }
        },
        {
          "output_type": "stream",
          "text": [
            "NOTE: 2017 Data only includes cars sold in the past 11 months. December data not yet available\n"
          ],
          "name": "stdout"
        }
      ]
    },
    {
      "metadata": {
        "id": "hGB_MHVo4VSd",
        "colab_type": "text"
      },
      "source": [
        "## Observations"
      ],
      "cell_type": "markdown"
    },
    {
      "metadata": {
        "id": "ruiz1sLT4Y8F",
        "colab_type": "text"
      },
      "source": [
        "Based on the graph above, we can observe that:\n",
        "\n",
        "*   January consistantly had the lowest sales each year during this decade.\n",
        "*   There is a noticable gap between January and the next lowest selling month for that year. The gap is so noticable and large that the line for January never touches the line for any other month. The closest January ever came was at the very beginning of the decade, in 2010, when it was within ~10,000 cars of February\n",
        "*   No month was ever consistantly the best selling month of the year for the entire decade\n",
        "*   No month was ever consistantly the second worst selling month of the year for the entire decade. The closest month to achieve that was February. From 2014 to 2016 (possibly 2017, we won't know until December concludes) it was the second worst selling month. Even then the biggest gap between it and the next worst selling month was never larger than ~6,000 cars (nearly half of January's smallest gap). This happened in 2014 when February sold ~6,000 cars less than November\n"
      ],
      "cell_type": "markdown"
    },
    {
      "metadata": {
        "id": "wzLZStkgv3uN",
        "colab_type": "text"
      },
      "source": [
        "# Linear Regression Analysis"
      ],
      "cell_type": "markdown"
    },
    {
      "metadata": {
        "id": "BbYw6J2xtH8L",
        "colab_type": "text"
      },
      "source": [
        "We decided to use sklearn's LinearRegression and cross value prediction and score modules to aid us in our analysis of our data. We decided to use r^2 score for the 7-fold cross validation to see how well a linear model would be able to generalize for our data. r^2 scores are easy to interpret with a 1 indicating a perfect fit and a 0 meaning no fit."
      ],
      "cell_type": "markdown"
    },
    {
      "metadata": {
        "id": "Kata-aBiC5eb",
        "colab_type": "code",
        "colab": {
          "autoexec": {
            "startup": false,
            "wait_interval": 0
          },
          "output_extras": [
            {
              "item_id": 1
            }
          ],
          "base_uri": "https://localhost:8080/",
          "height": 102
        },
        "outputId": "144feae3-a081-4142-bde0-6e8f55293903",
        "executionInfo": {
          "status": "ok",
          "timestamp": 1513389564926,
          "user_tz": 300,
          "elapsed": 446,
          "user": {
            "displayName": "Ankita Acharya",
            "photoUrl": "//lh4.googleusercontent.com/-cBDEEVYvDo4/AAAAAAAAAAI/AAAAAAAAABA/FDzN0-aaNl0/s50-c-k-no/photo.jpg",
            "userId": "107909824720407912366"
          }
        }
      },
      "source": [
        "from sklearn import linear_model\n",
        "from sklearn.model_selection import cross_val_predict\n",
        "from sklearn.model_selection import cross_val_score\n",
        "\n",
        "# Average number of cars sold per month, then do k fold cross validation test. \n",
        "\n",
        "def get_pred(x, y, regr):\n",
        "  pred = cross_val_predict(regr, x, y, cv=7)\n",
        "  return pred\n",
        "\n",
        "def get_r2(x, y, regr):\n",
        "  r2 = cross_val_score(regr, x, y, scoring='r2',cv=7)\n",
        "  return r2\n",
        "\n",
        "x = months_df_flipped[['Year']][:-1]\n",
        "y = totals_df_2010_2016['Cars Sold']\n",
        "\n",
        "#Visualize what model predicted as total sold per year.\n",
        "predicted = get_pred(x, y, linear_model.LinearRegression())\n",
        "\n",
        "#Want to test how well model can generalize.\n",
        "r2_score = get_r2(x, y, linear_model.LinearRegression())\n",
        "\n",
        "print(\"R^2 scores for the all sales per year\")\n",
        "print(r2_score)\n",
        "print(\"All brands predicted values for sales per year\")\n",
        "print(predicted)\n"
      ],
      "cell_type": "code",
      "execution_count": 55,
      "outputs": [
        {
          "output_type": "stream",
          "text": [
            "R^2 scores for the all sales per year\n",
            "[ 0.  0.  0.  0.  0.  0.  0.]\n",
            "All brands predicted values for sales per year\n",
            "[ 12363911.4666667   13158270.4000001   14008884.43478251\n",
            "  15066984.66666675  16110898.69565225  17135529.5999999   18915868.79999971]\n"
          ],
          "name": "stdout"
        }
      ]
    },
    {
      "metadata": {
        "id": "wJukjIkVERgV",
        "colab_type": "text"
      },
      "source": [
        "Notice, that the R^2 values for sales per year is zero for each year between 2010 to 2016. Because the R^2 values are an indicator of how well the data fits the linear model, we can determine that linear regression is a very bad model to fit this data. R^2 values should ideally be closer to one in order to claim the model shares significance with the data."
      ],
      "cell_type": "markdown"
    },
    {
      "metadata": {
        "id": "mQWjJNbbC9bG",
        "colab_type": "code",
        "colab": {
          "autoexec": {
            "startup": false,
            "wait_interval": 0
          },
          "output_extras": [
            {
              "item_id": 1
            }
          ],
          "base_uri": "https://localhost:8080/",
          "height": 476
        },
        "outputId": "b40df19c-bde6-4346-959d-88fa8cd57e8f",
        "executionInfo": {
          "status": "ok",
          "timestamp": 1513389567364,
          "user_tz": 300,
          "elapsed": 261,
          "user": {
            "displayName": "Ankita Acharya",
            "photoUrl": "//lh4.googleusercontent.com/-cBDEEVYvDo4/AAAAAAAAAAI/AAAAAAAAABA/FDzN0-aaNl0/s50-c-k-no/photo.jpg",
            "userId": "107909824720407912366"
          }
        }
      },
      "source": [
        "from statsmodels.formula.api import ols\n",
        "import statsmodels.formula.api as smf\n",
        "\n",
        "#adding numerical value to month\n",
        "totals_months_df.reset_index(inplace = True)\n",
        "\n",
        "f = smf.ols(formula='index ~ Total_Cars_Sold', data=totals_months_df).fit()\n",
        "print(f.summary())"
      ],
      "cell_type": "code",
      "execution_count": 56,
      "outputs": [
        {
          "output_type": "stream",
          "text": [
            "                            OLS Regression Results                            \n",
            "==============================================================================\n",
            "Dep. Variable:                  index   R-squared:                       0.007\n",
            "Model:                            OLS   Adj. R-squared:                 -0.092\n",
            "Method:                 Least Squares   F-statistic:                   0.07145\n",
            "Date:                Sat, 16 Dec 2017   Prob (F-statistic):              0.795\n",
            "Time:                        01:59:27   Log-Likelihood:                -31.852\n",
            "No. Observations:                  12   AIC:                             67.70\n",
            "Df Residuals:                      10   BIC:                             68.67\n",
            "Df Model:                           1                                         \n",
            "Covariance Type:            nonrobust                                         \n",
            "===================================================================================\n",
            "                      coef    std err          t      P>|t|      [0.025      0.975]\n",
            "-----------------------------------------------------------------------------------\n",
            "Intercept           2.6004     10.902      0.239      0.816     -21.690      26.891\n",
            "Total_Cars_Sold  3.283e-07   1.23e-06      0.267      0.795   -2.41e-06    3.06e-06\n",
            "==============================================================================\n",
            "Omnibus:                        1.494   Durbin-Watson:                   0.091\n",
            "Prob(Omnibus):                  0.474   Jarque-Bera (JB):                0.781\n",
            "Skew:                           0.032   Prob(JB):                        0.677\n",
            "Kurtosis:                       1.752   Cond. No.                     8.90e+07\n",
            "==============================================================================\n",
            "\n",
            "Warnings:\n",
            "[1] Standard Errors assume that the covariance matrix of the errors is correctly specified.\n",
            "[2] The condition number is large, 8.9e+07. This might indicate that there are\n",
            "strong multicollinearity or other numerical problems.\n"
          ],
          "name": "stdout"
        }
      ]
    },
    {
      "metadata": {
        "id": "QQrPU51uOkc7",
        "colab_type": "text"
      },
      "source": [
        "Here, we look into the months and cars sold data. Again, the R^2 is very small and therefore we can not say there is a good fit for the linear model on our data. When we plot the predicted versus measured data below we can see that the linear model in some cases over predicts the values and in other cases under predicts, not really providing an acccurate prediction for any of the data points."
      ],
      "cell_type": "markdown"
    },
    {
      "metadata": {
        "id": "jc_wHIdgR9ZP",
        "colab_type": "code",
        "colab": {
          "autoexec": {
            "startup": false,
            "wait_interval": 0
          },
          "output_extras": [
            {
              "item_id": 1
            }
          ],
          "base_uri": "https://localhost:8080/",
          "height": 376
        },
        "outputId": "f96c9c72-1f20-426d-d45b-691a9d7c87f8",
        "executionInfo": {
          "status": "ok",
          "timestamp": 1513389314385,
          "user_tz": 300,
          "elapsed": 649,
          "user": {
            "displayName": "Ankita Acharya",
            "photoUrl": "//lh4.googleusercontent.com/-cBDEEVYvDo4/AAAAAAAAAAI/AAAAAAAAABA/FDzN0-aaNl0/s50-c-k-no/photo.jpg",
            "userId": "107909824720407912366"
          }
        }
      },
      "source": [
        "#Plot the predicted values vs the measured values\n",
        "fig, ax = plt.subplots()\n",
        "ax.scatter(y, predicted)\n",
        "\n",
        "ax.plot([y.min(), y.max()], [y.min(), y.max()], 'k--', lw=1)\n",
        "ax.set_xlabel('Measured')\n",
        "ax.set_ylabel('Predicted')\n",
        "plt.title('Measured values vs Predicted values for All Car Sales')\n",
        "\n",
        "plt.show()"
      ],
      "cell_type": "code",
      "execution_count": 42,
      "outputs": [
        {
          "output_type": "display_data",
          "data": {
            "image/png": "[encoded data removed]",
            "text/plain": [
              "<matplotlib.figure.Figure at 0x7f0c5e09af50>"
            ]
          },
          "metadata": {
            "tags": []
          }
        }
      ]
    },
    {
      "metadata": {
        "id": "dctldpvgmSL1",
        "colab_type": "text"
      },
      "source": [
        "This graph shows the plot for predicted versus measured values for the car sales per year table. Again, because the linear model was not the best fit for our data, it unfortunately can not tell us a lot, espescially with so few data points (one per year). "
      ],
      "cell_type": "markdown"
    },
    {
      "metadata": {
        "id": "u4374Yf4ENE7",
        "colab_type": "text"
      },
      "source": [
        "# Conclusion"
      ],
      "cell_type": "markdown"
    },
    {
      "metadata": {
        "id": "e9Osxb1BkaNm",
        "colab_type": "text"
      },
      "source": [
        "For many ordinary people buying a new car is an important decision and therefore finding the most optimal time of the year could be useful information. Based on the following, however, we could not fit our data to a linear model. While we could not accurately predict a time of year for when best to buy a car based on the linear regression model, we can say that based on the observations made from the graphs, that January has always been the month when the least amount of cars were sold during this decade. We cannot predict that January will continue to the be the month with the worst car sales using linear regression, but we can conclude that in the previous years of this decade, the best time to buy a car was always in January due to the low sales. We can also see that numbers of cars sold seems to be increasing per year and that of all seven years of data, most cars are sold in total during December. Further analysis could include brand information, prices, and type of sales promotions (Memorial Day Sales, Christmas Sales, New Years Sales, etc.) information to gain more context behind monthly car sales."
      ],
      "cell_type": "markdown"
    },
    {
      "metadata": {
        "id": "-Wzdd9mD_TN1",
        "colab_type": "text"
      },
      "source": [
        "# Further Resources"
      ],
      "cell_type": "markdown"
    },
    {
      "metadata": {
        "id": "2wGE57sb_WIf",
        "colab_type": "text"
      },
      "source": [
        "[Car Sales Base Data](http://carsalesbase.com/us-car-sales-data/)\n",
        "[](https://www.bea.gov/national/xls/gap_hist.xlsx)"
      ],
      "cell_type": "markdown"
    },
    {
      "metadata": {
        "id": "JQFQUh2rAIxI",
        "colab_type": "text"
      },
      "source": [
        "[Bureau of Economic Analysis Global Car Data](https://www.bea.gov/national/xls/gap_hist.xlsx)"
      ],
      "cell_type": "markdown"
    }
  ]
}